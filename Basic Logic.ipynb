{
 "cells": [
  {
   "cell_type": "code",
   "execution_count": 1,
   "metadata": {},
   "outputs": [],
   "source": [
    "from datetime import date, timedelta"
   ]
  },
  {
   "cell_type": "code",
   "execution_count": 2,
   "metadata": {},
   "outputs": [
    {
     "data": {
      "text/plain": [
       "[1, 4, 5, 6]"
      ]
     },
     "execution_count": 2,
     "metadata": {},
     "output_type": "execute_result"
    }
   ],
   "source": [
    "lis = [1, 4, 5, 6]\n",
    "lis"
   ]
  },
  {
   "cell_type": "code",
   "execution_count": 3,
   "metadata": {},
   "outputs": [],
   "source": [
    "def sum(a,b):\n",
    "    return a+b  "
   ]
  },
  {
   "cell_type": "code",
   "execution_count": 4,
   "metadata": {},
   "outputs": [],
   "source": [
    "sum_result = []"
   ]
  },
  {
   "cell_type": "code",
   "execution_count": 5,
   "metadata": {},
   "outputs": [
    {
     "name": "stdout",
     "output_type": "stream",
     "text": [
      "1 4\n",
      "4 5\n",
      "5 6\n"
     ]
    }
   ],
   "source": [
    "for previous, current in zip(lis, lis[1:]):\n",
    "    print(previous, current)\n",
    "    result = sum(previous, current)\n",
    "    sum_result.append(result)"
   ]
  },
  {
   "cell_type": "code",
   "execution_count": 6,
   "metadata": {},
   "outputs": [
    {
     "data": {
      "text/plain": [
       "[5, 9, 11]"
      ]
     },
     "execution_count": 6,
     "metadata": {},
     "output_type": "execute_result"
    }
   ],
   "source": [
    "sum_result"
   ]
  },
  {
   "cell_type": "code",
   "execution_count": 7,
   "metadata": {},
   "outputs": [],
   "source": [
    "day_list = []"
   ]
  },
  {
   "cell_type": "code",
   "execution_count": 8,
   "metadata": {},
   "outputs": [],
   "source": [
    "def weeknum(dayname):\n",
    "    if dayname == 'Monday':   return 0\n",
    "    if dayname == 'Tuesday':  return 1\n",
    "    if dayname == 'Wednesday':return 2\n",
    "    if dayname == 'Thursday': return 3\n",
    "    if dayname == 'Friday':   return 4\n",
    "    if dayname == 'Saturday': return 5\n",
    "    if dayname == 'Sunday':   return 6"
   ]
  },
  {
   "cell_type": "code",
   "execution_count": 9,
   "metadata": {},
   "outputs": [],
   "source": [
    "def alldays(year, whichDayYouWant):\n",
    "    d = date(year, 1, 1)\n",
    "    d += timedelta(days = (weeknum(whichDayYouWant) - d.weekday()) % 7)\n",
    "    while d.year == year:\n",
    "        yield d\n",
    "        d += timedelta(days = 7)"
   ]
  },
  {
   "cell_type": "code",
   "execution_count": 10,
   "metadata": {},
   "outputs": [],
   "source": [
    "for d in alldays(2016,'Thursday'):\n",
    "    day_list.append(str(d))"
   ]
  },
  {
   "cell_type": "code",
   "execution_count": 11,
   "metadata": {},
   "outputs": [
    {
     "data": {
      "text/plain": [
       "['2016-01-07',\n",
       " '2016-01-14',\n",
       " '2016-01-21',\n",
       " '2016-01-28',\n",
       " '2016-02-04',\n",
       " '2016-02-11',\n",
       " '2016-02-18',\n",
       " '2016-02-25',\n",
       " '2016-03-03',\n",
       " '2016-03-10',\n",
       " '2016-03-17',\n",
       " '2016-03-24',\n",
       " '2016-03-31',\n",
       " '2016-04-07',\n",
       " '2016-04-14',\n",
       " '2016-04-21',\n",
       " '2016-04-28',\n",
       " '2016-05-05',\n",
       " '2016-05-12',\n",
       " '2016-05-19',\n",
       " '2016-05-26',\n",
       " '2016-06-02',\n",
       " '2016-06-09',\n",
       " '2016-06-16',\n",
       " '2016-06-23',\n",
       " '2016-06-30',\n",
       " '2016-07-07',\n",
       " '2016-07-14',\n",
       " '2016-07-21',\n",
       " '2016-07-28',\n",
       " '2016-08-04',\n",
       " '2016-08-11',\n",
       " '2016-08-18',\n",
       " '2016-08-25',\n",
       " '2016-09-01',\n",
       " '2016-09-08',\n",
       " '2016-09-15',\n",
       " '2016-09-22',\n",
       " '2016-09-29',\n",
       " '2016-10-06',\n",
       " '2016-10-13',\n",
       " '2016-10-20',\n",
       " '2016-10-27',\n",
       " '2016-11-03',\n",
       " '2016-11-10',\n",
       " '2016-11-17',\n",
       " '2016-11-24',\n",
       " '2016-12-01',\n",
       " '2016-12-08',\n",
       " '2016-12-15',\n",
       " '2016-12-22',\n",
       " '2016-12-29']"
      ]
     },
     "execution_count": 11,
     "metadata": {},
     "output_type": "execute_result"
    }
   ],
   "source": [
    "day_list"
   ]
  },
  {
   "cell_type": "code",
   "execution_count": 13,
   "metadata": {},
   "outputs": [
    {
     "name": "stdout",
     "output_type": "stream",
     "text": [
      "2016-01-07 2016-01-14\n",
      "2016-01-14 2016-01-21\n",
      "2016-01-21 2016-01-28\n",
      "2016-01-28 2016-02-04\n",
      "2016-02-04 2016-02-11\n",
      "2016-02-11 2016-02-18\n",
      "2016-02-18 2016-02-25\n",
      "2016-02-25 2016-03-03\n",
      "2016-03-03 2016-03-10\n",
      "2016-03-10 2016-03-17\n",
      "2016-03-17 2016-03-24\n",
      "2016-03-24 2016-03-31\n",
      "2016-03-31 2016-04-07\n",
      "2016-04-07 2016-04-14\n",
      "2016-04-14 2016-04-21\n",
      "2016-04-21 2016-04-28\n",
      "2016-04-28 2016-05-05\n",
      "2016-05-05 2016-05-12\n",
      "2016-05-12 2016-05-19\n",
      "2016-05-19 2016-05-26\n",
      "2016-05-26 2016-06-02\n",
      "2016-06-02 2016-06-09\n",
      "2016-06-09 2016-06-16\n",
      "2016-06-16 2016-06-23\n",
      "2016-06-23 2016-06-30\n",
      "2016-06-30 2016-07-07\n",
      "2016-07-07 2016-07-14\n",
      "2016-07-14 2016-07-21\n",
      "2016-07-21 2016-07-28\n",
      "2016-07-28 2016-08-04\n",
      "2016-08-04 2016-08-11\n",
      "2016-08-11 2016-08-18\n",
      "2016-08-18 2016-08-25\n",
      "2016-08-25 2016-09-01\n",
      "2016-09-01 2016-09-08\n",
      "2016-09-08 2016-09-15\n",
      "2016-09-15 2016-09-22\n",
      "2016-09-22 2016-09-29\n",
      "2016-09-29 2016-10-06\n",
      "2016-10-06 2016-10-13\n",
      "2016-10-13 2016-10-20\n",
      "2016-10-20 2016-10-27\n",
      "2016-10-27 2016-11-03\n",
      "2016-11-03 2016-11-10\n",
      "2016-11-10 2016-11-17\n",
      "2016-11-17 2016-11-24\n",
      "2016-11-24 2016-12-01\n",
      "2016-12-01 2016-12-08\n",
      "2016-12-08 2016-12-15\n",
      "2016-12-15 2016-12-22\n",
      "2016-12-22 2016-12-29\n"
     ]
    }
   ],
   "source": [
    "for previous, current in zip(day_list, day_list[1:]):\n",
    "    print(previous, current)"
   ]
  }
 ],
 "metadata": {
  "kernelspec": {
   "display_name": "Python 3",
   "language": "python",
   "name": "python3"
  },
  "language_info": {
   "codemirror_mode": {
    "name": "ipython",
    "version": 3
   },
   "file_extension": ".py",
   "mimetype": "text/x-python",
   "name": "python",
   "nbconvert_exporter": "python",
   "pygments_lexer": "ipython3",
   "version": "3.8.5"
  }
 },
 "nbformat": 4,
 "nbformat_minor": 4
}
